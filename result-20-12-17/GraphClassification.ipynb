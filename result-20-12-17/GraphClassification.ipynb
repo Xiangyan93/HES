{
 "cells": [
  {
   "cell_type": "code",
   "execution_count": 1,
   "metadata": {},
   "outputs": [
    {
     "name": "stderr",
     "output_type": "stream",
     "text": [
      "/home/xiangyan/anaconda3/envs/graphdot/lib/python3.7/site-packages/tqdm/std.py:706: FutureWarning: The Panel class is removed from pandas. Accessing it from the top-level namespace will also be removed in the next version\n",
      "  from pandas import Panel\n"
     ]
    }
   ],
   "source": [
    "from ChemML.HighEntropySpinel.HighEntropySpinel import *\n",
    "from ChemML.chemml.classification.gpc.gpc import GPC"
   ]
  },
  {
   "cell_type": "code",
   "execution_count": 2,
   "metadata": {},
   "outputs": [
    {
     "data": {
      "text/html": [
       "<div>\n",
       "<style scoped>\n",
       "    .dataframe tbody tr th:only-of-type {\n",
       "        vertical-align: middle;\n",
       "    }\n",
       "\n",
       "    .dataframe tbody tr th {\n",
       "        vertical-align: top;\n",
       "    }\n",
       "\n",
       "    .dataframe thead th {\n",
       "        text-align: right;\n",
       "    }\n",
       "</style>\n",
       "<table border=\"1\" class=\"dataframe\">\n",
       "  <thead>\n",
       "    <tr style=\"text-align: right;\">\n",
       "      <th></th>\n",
       "      <th>atom_list</th>\n",
       "      <th>target</th>\n",
       "      <th>graph</th>\n",
       "    </tr>\n",
       "  </thead>\n",
       "  <tbody>\n",
       "    <tr>\n",
       "      <th>0</th>\n",
       "      <td>(13, 23, 24, 27, 28)</td>\n",
       "      <td>1</td>\n",
       "      <td>HashGraph(nodes={'!i': [0,1,2,3,4], 'Elemental...</td>\n",
       "    </tr>\n",
       "    <tr>\n",
       "      <th>1</th>\n",
       "      <td>(13, 26, 27, 38, 56)</td>\n",
       "      <td>0</td>\n",
       "      <td>HashGraph(nodes={'!i': [0,1,2,3,4], 'Elemental...</td>\n",
       "    </tr>\n",
       "    <tr>\n",
       "      <th>2</th>\n",
       "      <td>(13, 23, 27, 28, 29)</td>\n",
       "      <td>0</td>\n",
       "      <td>HashGraph(nodes={'!i': [0,1,2,3,4], 'Elemental...</td>\n",
       "    </tr>\n",
       "    <tr>\n",
       "      <th>3</th>\n",
       "      <td>(13, 23, 26, 29, 30)</td>\n",
       "      <td>1</td>\n",
       "      <td>HashGraph(nodes={'!i': [0,1,2,3,4], 'Elemental...</td>\n",
       "    </tr>\n",
       "    <tr>\n",
       "      <th>4</th>\n",
       "      <td>(12, 20, 25, 28, 29)</td>\n",
       "      <td>0</td>\n",
       "      <td>HashGraph(nodes={'!i': [0,1,2,3,4], 'Elemental...</td>\n",
       "    </tr>\n",
       "    <tr>\n",
       "      <th>...</th>\n",
       "      <td>...</td>\n",
       "      <td>...</td>\n",
       "      <td>...</td>\n",
       "    </tr>\n",
       "    <tr>\n",
       "      <th>95</th>\n",
       "      <td>(12, 23, 27, 29, 30)</td>\n",
       "      <td>1</td>\n",
       "      <td>HashGraph(nodes={'!i': [0,1,2,3,4], 'Elemental...</td>\n",
       "    </tr>\n",
       "    <tr>\n",
       "      <th>96</th>\n",
       "      <td>(12, 20, 27, 29, 30)</td>\n",
       "      <td>1</td>\n",
       "      <td>HashGraph(nodes={'!i': [0,1,2,3,4], 'Elemental...</td>\n",
       "    </tr>\n",
       "    <tr>\n",
       "      <th>97</th>\n",
       "      <td>(22, 23, 24, 25, 26)</td>\n",
       "      <td>0</td>\n",
       "      <td>HashGraph(nodes={'!i': [0,1,2,3,4], 'Elemental...</td>\n",
       "    </tr>\n",
       "    <tr>\n",
       "      <th>98</th>\n",
       "      <td>(12, 25, 27, 28, 29)</td>\n",
       "      <td>1</td>\n",
       "      <td>HashGraph(nodes={'!i': [0,1,2,3,4], 'Elemental...</td>\n",
       "    </tr>\n",
       "    <tr>\n",
       "      <th>99</th>\n",
       "      <td>(12, 25, 27, 29, 30)</td>\n",
       "      <td>1</td>\n",
       "      <td>HashGraph(nodes={'!i': [0,1,2,3,4], 'Elemental...</td>\n",
       "    </tr>\n",
       "  </tbody>\n",
       "</table>\n",
       "<p>100 rows × 3 columns</p>\n",
       "</div>"
      ],
      "text/plain": [
       "               atom_list  target  \\\n",
       "0   (13, 23, 24, 27, 28)       1   \n",
       "1   (13, 26, 27, 38, 56)       0   \n",
       "2   (13, 23, 27, 28, 29)       0   \n",
       "3   (13, 23, 26, 29, 30)       1   \n",
       "4   (12, 20, 25, 28, 29)       0   \n",
       "..                   ...     ...   \n",
       "95  (12, 23, 27, 29, 30)       1   \n",
       "96  (12, 20, 27, 29, 30)       1   \n",
       "97  (22, 23, 24, 25, 26)       0   \n",
       "98  (12, 25, 27, 28, 29)       1   \n",
       "99  (12, 25, 27, 29, 30)       1   \n",
       "\n",
       "                                                graph  \n",
       "0   HashGraph(nodes={'!i': [0,1,2,3,4], 'Elemental...  \n",
       "1   HashGraph(nodes={'!i': [0,1,2,3,4], 'Elemental...  \n",
       "2   HashGraph(nodes={'!i': [0,1,2,3,4], 'Elemental...  \n",
       "3   HashGraph(nodes={'!i': [0,1,2,3,4], 'Elemental...  \n",
       "4   HashGraph(nodes={'!i': [0,1,2,3,4], 'Elemental...  \n",
       "..                                                ...  \n",
       "95  HashGraph(nodes={'!i': [0,1,2,3,4], 'Elemental...  \n",
       "96  HashGraph(nodes={'!i': [0,1,2,3,4], 'Elemental...  \n",
       "97  HashGraph(nodes={'!i': [0,1,2,3,4], 'Elemental...  \n",
       "98  HashGraph(nodes={'!i': [0,1,2,3,4], 'Elemental...  \n",
       "99  HashGraph(nodes={'!i': [0,1,2,3,4], 'Elemental...  \n",
       "\n",
       "[100 rows x 3 columns]"
      ]
     },
     "execution_count": 2,
     "metadata": {},
     "output_type": "execute_result"
    }
   ],
   "source": [
    "df = pd.read_csv('sample1.txt', sep='\\s+')\n",
    "c = df['atom_list'].apply(lambda x: list(map(int, x.split(','))))\n",
    "hash = list(map(lambda x: ','.join(list(map(str, np.sort(x)))), c))\n",
    "graphs = list(map(HashGraph.from_atom_list, c, hash))\n",
    "df['graph'] = graphs\n",
    "df['atom_list'] = c.apply(lambda x: tuple(np.sort(x)))\n",
    "df"
   ]
  },
  {
   "cell_type": "code",
   "execution_count": 4,
   "metadata": {},
   "outputs": [],
   "source": [
    "X = df['graph']\n",
    "y = df['target']\n",
    "kernel_config = set_kernel_config(\n",
    "    'graph', None, None,\n",
    "    ['graph'], [], 'ChemML/HighEntropySpinel/tensorproduct-NMGK.json', 'test'\n",
    ")\n",
    "reg = GPC(kernel=kernel_config.kernel, optimizer=None)"
   ]
  },
  {
   "cell_type": "code",
   "execution_count": 7,
   "metadata": {},
   "outputs": [
    {
     "data": {
      "text/plain": [
       "0.87"
      ]
     },
     "execution_count": 7,
     "metadata": {},
     "output_type": "execute_result"
    }
   ],
   "source": [
    "from sklearn.model_selection import cross_val_score\n",
    "def get_correctness(clf, X, y, n=100, cv=5):\n",
    "    return np.concatenate([cross_val_score(clf, X, y, cv=cv) for i in range(n)]).mean()\n",
    "\n",
    "get_correctness(reg, X, y)"
   ]
  },
  {
   "cell_type": "code",
   "execution_count": null,
   "metadata": {},
   "outputs": [],
   "source": []
  }
 ],
 "metadata": {
  "kernelspec": {
   "display_name": "Python 3",
   "language": "python",
   "name": "python3"
  },
  "language_info": {
   "codemirror_mode": {
    "name": "ipython",
    "version": 3
   },
   "file_extension": ".py",
   "mimetype": "text/x-python",
   "name": "python",
   "nbconvert_exporter": "python",
   "pygments_lexer": "ipython3",
   "version": "3.7.9"
  }
 },
 "nbformat": 4,
 "nbformat_minor": 4
}
