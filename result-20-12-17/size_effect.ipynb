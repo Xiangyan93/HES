{
 "cells": [
  {
   "cell_type": "code",
   "execution_count": 1,
   "metadata": {},
   "outputs": [],
   "source": [
    "import pandas as pd\n",
    "import numpy as np\n",
    "df = pd.read_csv('sample1.txt', sep='\\s+')\n",
    "df.atom_list = df.atom_list.apply(lambda x: list(map(int, x.split(','))))\n",
    "atom_dict = {\n",
    "    12: 'Mg',\n",
    "    13: 'Al',\n",
    "    20: 'Ca',\n",
    "    22: 'Ti',\n",
    "    23: 'V',\n",
    "    24: 'Cr',\n",
    "    25: 'Mn',\n",
    "    26: 'Fe',\n",
    "    27: 'Co',\n",
    "    28: 'Ni',\n",
    "    29: 'Cu',\n",
    "    30: 'Zn',\n",
    "    38: 'Sr',\n",
    "    56: 'Ba',\n",
    "}\n",
    "for an, name in atom_dict.items():\n",
    "    df[name] = df.atom_list.apply(lambda x: x.count(an) / len(x))\n",
    "X = df[atom_dict.values()]\n",
    "y = df.target"
   ]
  },
  {
   "cell_type": "code",
   "execution_count": 2,
   "metadata": {},
   "outputs": [],
   "source": [
    "from sklearn.model_selection import train_test_split\n",
    "def get_correctness(clf, X, y, n=100, ts=0.2):\n",
    "    correctness = []\n",
    "    for i in range(n):\n",
    "        X_train, X_test, y_train, y_test = train_test_split(X, y, test_size=ts)\n",
    "        clf.fit(X_train, y_train)\n",
    "        correctness.append((clf.predict(X_test) == y_test).mean())\n",
    "    return np.mean(correctness)"
   ]
  },
  {
   "cell_type": "code",
   "execution_count": 3,
   "metadata": {},
   "outputs": [
    {
     "data": {
      "text/plain": [
       "[<matplotlib.lines.Line2D at 0x7fb24eec2390>]"
      ]
     },
     "execution_count": 3,
     "metadata": {},
     "output_type": "execute_result"
    },
    {
     "data": {
      "image/png": "[encoded data removed]",
      "text/plain": [
       "<Figure size 432x288 with 1 Axes>"
      ]
     },
     "metadata": {
      "needs_background": "light"
     },
     "output_type": "display_data"
    }
   ],
   "source": [
    "from sklearn.ensemble import RandomForestClassifier\n",
    "clf = RandomForestClassifier(n_estimators=20, max_depth=10)\n",
    "ts = []\n",
    "co = []\n",
    "for i in range(9):\n",
    "    ts.append(i / 10 + 0.1)\n",
    "    co.append(get_correctness(clf, X, y, ts=1-ts[-1]))\n",
    "import matplotlib.pyplot as plt\n",
    "plt.plot(ts, co)"
   ]
  },
  {
   "cell_type": "code",
   "execution_count": null,
   "metadata": {},
   "outputs": [],
   "source": []
  }
 ],
 "metadata": {
  "kernelspec": {
   "display_name": "Python 3",
   "language": "python",
   "name": "python3"
  },
  "language_info": {
   "codemirror_mode": {
    "name": "ipython",
    "version": 3
   },
   "file_extension": ".py",
   "mimetype": "text/x-python",
   "name": "python",
   "nbconvert_exporter": "python",
   "pygments_lexer": "ipython3",
   "version": "3.7.9"
  }
 },
 "nbformat": 4,
 "nbformat_minor": 4
}
