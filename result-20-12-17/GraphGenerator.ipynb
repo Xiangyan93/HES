{
 "cells": [
  {
   "cell_type": "code",
   "execution_count": 1,
   "metadata": {},
   "outputs": [
    {
     "name": "stderr",
     "output_type": "stream",
     "text": [
      "/home/xiangyan/anaconda3/envs/graphdot/lib/python3.7/site-packages/tqdm/std.py:706: FutureWarning: The Panel class is removed from pandas. Accessing it from the top-level namespace will also be removed in the next version\n",
      "  from pandas import Panel\n"
     ]
    }
   ],
   "source": [
    "# generate all possible graphs\n",
    "from ChemML.HighEntropySpinel.HighEntropySpinel import *\n",
    "atoms_pool = [12, 13, 20, 22, 23, 24, 25, 26, 27, 28, 29, 30, 38, 56]\n",
    "c = []\n",
    "for i in range(5, 11):\n",
    "    c += list(combinations(atoms_pool, i))\n",
    "hash = list(map(lambda x: ','.join(list(map(str, np.sort(x)))), c))\n",
    "df = pd.DataFrame({})\n",
    "graphs = list(map(HashGraph.from_atom_list, c, hash))\n",
    "df['graph'] = graphs\n",
    "df['atom_list'] = c\n",
    "df['id'] = df.index\n",
    "df['group_id'] = df.index\n",
    "df['target'] = -1"
   ]
  },
  {
   "cell_type": "code",
   "execution_count": 14,
   "metadata": {},
   "outputs": [],
   "source": [
    "def update_exp_data(df, txt):\n",
    "    dfi = pd.read_csv(txt, sep='\\s+')\n",
    "    c = dfi['atom_list'].apply(lambda x: list(map(int, x.split(','))))\n",
    "    hash = list(map(lambda x: ','.join(list(map(str, np.sort(x)))), c))\n",
    "    graphs = list(map(HashGraph.from_atom_list, c, hash))\n",
    "    dfi['graph'] = graphs\n",
    "    dfi['atom_list'] = c.apply(lambda x: tuple(np.sort(x)))\n",
    "    df['target'] = df['atom_list'].apply(lambda x: dfi[dfi['atom_list'] == x]['target'].tolist()[0] if x in dfi['atom_list'].tolist() else -1)\n",
    "    return df\n",
    "df = update_exp_data(df, 'sample1.txt')"
   ]
  },
  {
   "cell_type": "code",
   "execution_count": 16,
   "metadata": {},
   "outputs": [
    {
     "data": {
      "text/plain": [
       "-1    14343\n",
       " 0       72\n",
       " 1       28\n",
       "Name: target, dtype: int64"
      ]
     },
     "execution_count": 16,
     "metadata": {},
     "output_type": "execute_result"
    }
   ],
   "source": [
    "df.target.value_counts()"
   ]
  },
  {
   "cell_type": "code",
   "execution_count": null,
   "metadata": {},
   "outputs": [],
   "source": []
  }
 ],
 "metadata": {
  "kernelspec": {
   "display_name": "Python 3",
   "language": "python",
   "name": "python3"
  },
  "language_info": {
   "codemirror_mode": {
    "name": "ipython",
    "version": 3
   },
   "file_extension": ".py",
   "mimetype": "text/x-python",
   "name": "python",
   "nbconvert_exporter": "python",
   "pygments_lexer": "ipython3",
   "version": "3.7.9"
  }
 },
 "nbformat": 4,
 "nbformat_minor": 4
}
